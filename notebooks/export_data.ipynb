{
 "cells": [
  {
   "cell_type": "code",
   "execution_count": 1,
   "id": "acb3f63c-da1c-45c3-a9de-c221132eb871",
   "metadata": {},
   "outputs": [],
   "source": [
    "# IMPORTS\n",
    "\n",
    "import pandas as pd\n",
    "import numpy as np\n",
    "import json\n",
    "from datetime import datetime"
   ]
  },
  {
   "cell_type": "code",
   "execution_count": 2,
   "id": "c0a03c01-9786-4b57-8a80-2b7a1943f4fc",
   "metadata": {},
   "outputs": [],
   "source": [
    "# Define Constants\n",
    "WEIGHT_DF_COLUMN_DATETIME='date'\n",
    "WEIGHT_DF_COLUMN_WEIGHT='poids'\n",
    "WEIGHT_FILE_PATH='../data/poids.csv'\n",
    "\n",
    "JSON_FIELD_DATE='dates'\n",
    "JSON_FIELD_WEIGHT='values'\n",
    "JSON_FILE_PATH='../docs/data/weight.json'"
   ]
  },
  {
   "cell_type": "code",
   "execution_count": 3,
   "id": "7e49f8f7-4aa8-480f-ae43-f3c1960c8e16",
   "metadata": {},
   "outputs": [],
   "source": [
    "# Loading weight data\n",
    "df_weight=pd.read_csv(WEIGHT_FILE_PATH, sep=';', parse_dates=[WEIGHT_DF_COLUMN_DATETIME])"
   ]
  },
  {
   "cell_type": "code",
   "execution_count": 4,
   "id": "5ab55ac7-09c0-4660-a85e-5cdece611d1c",
   "metadata": {},
   "outputs": [
    {
     "data": {
      "text/html": [
       "<div>\n",
       "<style scoped>\n",
       "    .dataframe tbody tr th:only-of-type {\n",
       "        vertical-align: middle;\n",
       "    }\n",
       "\n",
       "    .dataframe tbody tr th {\n",
       "        vertical-align: top;\n",
       "    }\n",
       "\n",
       "    .dataframe thead th {\n",
       "        text-align: right;\n",
       "    }\n",
       "</style>\n",
       "<table border=\"1\" class=\"dataframe\">\n",
       "  <thead>\n",
       "    <tr style=\"text-align: right;\">\n",
       "      <th></th>\n",
       "      <th>dates</th>\n",
       "      <th>values</th>\n",
       "    </tr>\n",
       "  </thead>\n",
       "  <tbody>\n",
       "    <tr>\n",
       "      <th>0</th>\n",
       "      <td>2024-04-02</td>\n",
       "      <td>5.4</td>\n",
       "    </tr>\n",
       "    <tr>\n",
       "      <th>1</th>\n",
       "      <td>2024-04-05</td>\n",
       "      <td>5.7</td>\n",
       "    </tr>\n",
       "    <tr>\n",
       "      <th>2</th>\n",
       "      <td>2024-04-09</td>\n",
       "      <td>6.3</td>\n",
       "    </tr>\n",
       "    <tr>\n",
       "      <th>3</th>\n",
       "      <td>2024-04-12</td>\n",
       "      <td>None</td>\n",
       "    </tr>\n",
       "    <tr>\n",
       "      <th>4</th>\n",
       "      <td>2024-04-16</td>\n",
       "      <td>None</td>\n",
       "    </tr>\n",
       "    <tr>\n",
       "      <th>5</th>\n",
       "      <td>2024-04-19</td>\n",
       "      <td>None</td>\n",
       "    </tr>\n",
       "    <tr>\n",
       "      <th>6</th>\n",
       "      <td>2024-04-23</td>\n",
       "      <td>None</td>\n",
       "    </tr>\n",
       "    <tr>\n",
       "      <th>7</th>\n",
       "      <td>2024-04-26</td>\n",
       "      <td>None</td>\n",
       "    </tr>\n",
       "  </tbody>\n",
       "</table>\n",
       "</div>"
      ],
      "text/plain": [
       "        dates values\n",
       "0  2024-04-02    5.4\n",
       "1  2024-04-05    5.7\n",
       "2  2024-04-09    6.3\n",
       "3  2024-04-12   None\n",
       "4  2024-04-16   None\n",
       "5  2024-04-19   None\n",
       "6  2024-04-23   None\n",
       "7  2024-04-26   None"
      ]
     },
     "execution_count": 4,
     "metadata": {},
     "output_type": "execute_result"
    }
   ],
   "source": [
    "# Conversion Poids\n",
    "df_json=pd.DataFrame()\n",
    "df_json[JSON_FIELD_DATE]=df_weight[[WEIGHT_DF_COLUMN_DATETIME]].apply(lambda x : x.iloc[0].strftime(\"%Y-%m-%d\"), axis=1)\n",
    "df_json[JSON_FIELD_WEIGHT]=df_weight[[WEIGHT_DF_COLUMN_WEIGHT]]\n",
    "# replace Nan with None, so it will be replaced by null in json\n",
    "df_json = df_json.replace(np.nan, None)\n",
    "#df_json"
   ]
  },
  {
   "cell_type": "code",
   "execution_count": 6,
   "id": "eaa06f28-21f4-48ce-b3af-17875659edcd",
   "metadata": {},
   "outputs": [],
   "source": [
    "# OUTPUT \n",
    "data_object = {\n",
    "  JSON_FIELD_DATE: df_json[JSON_FIELD_DATE].to_list(),\n",
    "  JSON_FIELD_WEIGHT: df_json[JSON_FIELD_WEIGHT].to_list(),\n",
    "}\n",
    "\n",
    "with open(JSON_FILE_PATH, 'w', encoding='utf-8') as f:\n",
    "    json.dump(data_object, f, indent=4)\n",
    "\n",
    "# Print\n",
    "# data_json = json.dumps(data_object)\n",
    "# print(data_json)"
   ]
  },
  {
   "cell_type": "code",
   "execution_count": null,
   "id": "a88ab7c1-08ff-4c9c-bb0f-a8d54c3c719c",
   "metadata": {},
   "outputs": [],
   "source": []
  }
 ],
 "metadata": {
  "kernelspec": {
   "display_name": "Python 3 (ipykernel)",
   "language": "python",
   "name": "python3"
  },
  "language_info": {
   "codemirror_mode": {
    "name": "ipython",
    "version": 3
   },
   "file_extension": ".py",
   "mimetype": "text/x-python",
   "name": "python",
   "nbconvert_exporter": "python",
   "pygments_lexer": "ipython3",
   "version": "3.12.2"
  }
 },
 "nbformat": 4,
 "nbformat_minor": 5
}
