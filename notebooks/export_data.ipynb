{
 "cells": [
  {
   "cell_type": "markdown",
   "id": "9a19b8c9",
   "metadata": {},
   "source": [
    "### General import"
   ]
  },
  {
   "cell_type": "code",
   "execution_count": 56,
   "id": "acb3f63c-da1c-45c3-a9de-c221132eb871",
   "metadata": {},
   "outputs": [],
   "source": [
    "# IMPORTS\n",
    "\n",
    "import pandas as pd\n",
    "import numpy as np\n",
    "import json\n",
    "from datetime import datetime\n",
    "from sklearn.cluster import KMeans"
   ]
  },
  {
   "cell_type": "markdown",
   "id": "b53ddddf",
   "metadata": {},
   "source": [
    "### Export poids (weight.json)"
   ]
  },
  {
   "cell_type": "code",
   "execution_count": 57,
   "id": "c0a03c01-9786-4b57-8a80-2b7a1943f4fc",
   "metadata": {},
   "outputs": [],
   "source": [
    "# Define Constants\n",
    "WEIGHT_DF_COLUMN_DATETIME='date'\n",
    "WEIGHT_DF_COLUMN_WEIGHT='poids'\n",
    "WEIGHT_FILE_PATH='../data/poids.csv'\n",
    "\n",
    "WEIGHT_JSON_FIELD_DATE='dates'\n",
    "WEIGHT_JSON_FIELD_WEIGHT='values'\n",
    "WEIGHT_JSON_FILE_PATH='../docs/data/weight.json'"
   ]
  },
  {
   "cell_type": "code",
   "execution_count": 58,
   "id": "7e49f8f7-4aa8-480f-ae43-f3c1960c8e16",
   "metadata": {},
   "outputs": [],
   "source": [
    "# Loading weight data\n",
    "df_weight=pd.read_csv(WEIGHT_FILE_PATH, sep=';', parse_dates=[WEIGHT_DF_COLUMN_DATETIME])"
   ]
  },
  {
   "cell_type": "code",
   "execution_count": 59,
   "id": "5ab55ac7-09c0-4660-a85e-5cdece611d1c",
   "metadata": {},
   "outputs": [],
   "source": [
    "# Conversion Poids\n",
    "df_json=pd.DataFrame()\n",
    "df_json[WEIGHT_JSON_FIELD_DATE]=df_weight[[WEIGHT_DF_COLUMN_DATETIME]].apply(lambda x : x.iloc[0].strftime(\"%Y-%m-%d\"), axis=1)\n",
    "df_json[WEIGHT_JSON_FIELD_WEIGHT]=df_weight[[WEIGHT_DF_COLUMN_WEIGHT]]\n",
    "# replace Nan with None, so it will be replaced by null in json\n",
    "df_json = df_json.replace(np.nan, None)\n",
    "#df_json"
   ]
  },
  {
   "cell_type": "code",
   "execution_count": 60,
   "id": "eaa06f28-21f4-48ce-b3af-17875659edcd",
   "metadata": {},
   "outputs": [],
   "source": [
    "# OUTPUT \n",
    "weight_data_object = {\n",
    "  WEIGHT_JSON_FIELD_DATE: df_json[WEIGHT_JSON_FIELD_DATE].to_list(),\n",
    "  WEIGHT_JSON_FIELD_WEIGHT: df_json[WEIGHT_JSON_FIELD_WEIGHT].to_list(),\n",
    "}\n",
    "\n",
    "with open(WEIGHT_JSON_FILE_PATH, 'w', encoding='utf-8') as f:\n",
    "    json.dump(weight_data_object, f, indent=4)\n",
    "\n",
    "# Print\n",
    "# data_json = json.dumps(weight_data_object)\n",
    "# print(data_json)"
   ]
  },
  {
   "cell_type": "markdown",
   "id": "2b0ace52",
   "metadata": {},
   "source": [
    "### Export taille"
   ]
  },
  {
   "cell_type": "code",
   "execution_count": 61,
   "id": "4cbbbca8",
   "metadata": {},
   "outputs": [],
   "source": [
    "# Define Constants\n",
    "SIZE_DF_COLUMN_DATETIME='date'\n",
    "SIZE_DF_COLUMN_SHOULDER='hauteur_epaule'\n",
    "SIZE_DF_COLUMN_BACK='longueur_dos'\n",
    "SIZE_FILE_PATH='../data/size.csv'\n",
    "\n",
    "SIZE_JSON_FIELD_DATE='dates'\n",
    "SIZE_JSON_FIELD_SHOULDER='shoulder'\n",
    "SIZE_JSON_FIELD_BACK='back'\n",
    "SIZE_JSON_FILE_PATH='../docs/data/size.json'"
   ]
  },
  {
   "cell_type": "code",
   "execution_count": 62,
   "id": "c3f333ad",
   "metadata": {},
   "outputs": [],
   "source": [
    "# Loading weight data\n",
    "df_size=pd.read_csv(SIZE_FILE_PATH, sep=';', parse_dates=[SIZE_DF_COLUMN_DATETIME])\n",
    "# OUTPUT \n",
    "size_data_object = {\n",
    "  SIZE_JSON_FIELD_DATE: df_size[[SIZE_DF_COLUMN_DATETIME]].apply(lambda x : x.iloc[0].strftime(\"%Y-%m-%d\"), axis=1).to_list(),\n",
    "  SIZE_JSON_FIELD_SHOULDER: df_size[SIZE_DF_COLUMN_SHOULDER].to_list(),\n",
    "  SIZE_JSON_FIELD_BACK: df_size[SIZE_DF_COLUMN_BACK].to_list(),\n",
    "}\n",
    "\n",
    "with open(SIZE_JSON_FILE_PATH, 'w', encoding='utf-8') as f:\n",
    "    json.dump(size_data_object, f, indent=4)"
   ]
  },
  {
   "cell_type": "markdown",
   "id": "de3568ae",
   "metadata": {},
   "source": [
    "### Export propreté"
   ]
  },
  {
   "cell_type": "code",
   "execution_count": 63,
   "id": "eb7f4153",
   "metadata": {},
   "outputs": [],
   "source": [
    "# Define Constants\n",
    "POOP_DF_COLUMN_DATE='date'\n",
    "POOP_DF_COLUMN_DATETIME='datetime'\n",
    "POOP_DF_COLUMN_HOUR='heure'\n",
    "POOP_DF_COLUMN_DATETIME_OF_DAY='datetime_ofday'\n",
    "POOP_DF_COLUMN_NATURE='nature'\n",
    "POOP_DF_VALUE_NATURE_POOP='caca'\n",
    "POOP_DF_COLUMN_LOCATION='lieu'\n",
    "POOP_DF_VALUE_LOCATION_IN='in'\n",
    "POOP_DF_COLUMN_TIMESTAMP_OF_DAY='timestamp_ofday'\n",
    "POOP_DF_COLUMN_DAY_OF_WEEK='day_of_week'\n",
    "\n",
    "POOP_JSON_FIELD_DATE='dates'\n",
    "POOP_JSON_FIELD_DAY_SUCCESS_RATE='day_success_rate'\n",
    "POOP_JSON_FIELD_DAY_NB_FAILURE='day_nb_failure'\n",
    "POOP_JSON_FIELD_NIGHT_NB_FAILURE='night_nb_failure'\n",
    "POOP_JSON_FILE_PATH='../docs/data/poop.json'\n",
    "\n",
    "POOPBYHOUR_JSON_FILE_PATH='../docs/data/poop_by_hour.json'\n",
    "POOPBYHOUR_JSON_FIELD_HOUR='hour'\n",
    "POOPBYHOUR_JSON_FIELD_DAYOFWEEK='day_of_week'\n",
    "POOPBYHOUR_JSON_FIELD_GROUP='group'"
   ]
  },
  {
   "cell_type": "code",
   "execution_count": 64,
   "id": "3b1ba81f",
   "metadata": {},
   "outputs": [],
   "source": [
    "# Loading poop data\n",
    "# data consolidation: Computing poop date and hour of day as datetime\n",
    "df_poop=pd.DataFrame(pd.read_excel('../data/poop.xlsx'))\n",
    "df_poop[POOP_DF_COLUMN_DATE] = pd.to_datetime(df_poop[POOP_DF_COLUMN_DATE]).dt.strftime('%Y-%m-%d')\n",
    "df_poop[POOP_DF_COLUMN_DATETIME]=df_poop[[POOP_DF_COLUMN_DATE, POOP_DF_COLUMN_HOUR]].apply(lambda x : datetime.strptime('{}T{}'.format(x.iloc[0],x.iloc[1]), \"%Y-%m-%dT%H:%M:%S\"), axis=1)\n",
    "_today=datetime.now().strftime(\"%Y-%m-%d\")\n",
    "df_poop[POOP_DF_COLUMN_DATETIME_OF_DAY]=df_poop[[POOP_DF_COLUMN_HOUR]].apply(lambda x : datetime.strptime('{}T{}'.format(_today,x.iloc[0]), \"%Y-%m-%dT%H:%M:%S\"), axis=1)\n",
    "df_poop[POOP_DF_COLUMN_TIMESTAMP_OF_DAY] = pd.DatetimeIndex(df_poop[POOP_DF_COLUMN_DATETIME_OF_DAY]).asi8\n",
    "df_poop[POOP_DF_COLUMN_DAY_OF_WEEK]= pd.DatetimeIndex(df_poop[POOP_DF_COLUMN_DATETIME]).dayofweek"
   ]
  },
  {
   "cell_type": "code",
   "execution_count": 65,
   "id": "f276ca13",
   "metadata": {},
   "outputs": [
    {
     "name": "stderr",
     "output_type": "stream",
     "text": [
      "C:\\Users\\julie\\AppData\\Local\\Temp\\ipykernel_19296\\1827400457.py:8: FutureWarning: The previous implementation of stack is deprecated and will be removed in a future version of pandas. See the What's New notes for pandas 2.1.0 for details. Specify future_stack=True to adopt the new implementation and silence this warning.\n",
      "  df_poop_day_efficiency['success']=df_poop_day.groupby([POOP_DF_COLUMN_DATE, POOP_DF_COLUMN_LOCATION]).size().to_frame('success').unstack(fill_value=0).stack()\\\n",
      "C:\\Users\\julie\\AppData\\Local\\Temp\\ipykernel_19296\\1827400457.py:17: FutureWarning: The previous implementation of stack is deprecated and will be removed in a future version of pandas. See the What's New notes for pandas 2.1.0 for details. Specify future_stack=True to adopt the new implementation and silence this warning.\n",
      "  df_poop_night_efficiency[POOP_JSON_FIELD_NIGHT_NB_FAILURE]=df_poop_night.groupby([POOP_DF_COLUMN_DATE, POOP_DF_COLUMN_LOCATION]).size().to_frame(POOP_JSON_FIELD_NIGHT_NB_FAILURE).unstack(fill_value=0).stack()\\\n"
     ]
    }
   ],
   "source": [
    "# filtering during the day data\n",
    "_start_of_day=datetime.now().replace(hour=6, minute=30, second=0)\n",
    "_end_of_day=datetime.now().replace(hour=21, minute=0, second=0)\n",
    "\n",
    "df_poop_day=df_poop[df_poop.apply(lambda x: (x[POOP_DF_COLUMN_DATETIME_OF_DAY] > _start_of_day) & (x[POOP_DF_COLUMN_DATETIME_OF_DAY] < _end_of_day), axis=1)]\n",
    "df_poop_day_efficiency=df_poop_day.groupby(POOP_DF_COLUMN_DATE).size().to_frame('total').reset_index()\n",
    "# formule compliquée mais qui permet de compter les jours à zero\n",
    "df_poop_day_efficiency['success']=df_poop_day.groupby([POOP_DF_COLUMN_DATE, POOP_DF_COLUMN_LOCATION]).size().to_frame('success').unstack(fill_value=0).stack()\\\n",
    "    .query(POOP_DF_COLUMN_LOCATION + ' !=  \"' + POOP_DF_VALUE_LOCATION_IN + '\"')\\\n",
    "    .groupby(POOP_DF_COLUMN_DATE).sum().reset_index()['success']\n",
    "df_poop_day_efficiency[POOP_JSON_FIELD_DAY_SUCCESS_RATE]=round(df_poop_day_efficiency['success'] * 100 / df_poop_day_efficiency['total'], 1)\n",
    "df_poop_day_efficiency[POOP_JSON_FIELD_DAY_NB_FAILURE]=df_poop_day_efficiency['total'] - df_poop_day_efficiency['success']\n",
    "\n",
    "df_poop_night=df_poop[df_poop.apply(lambda x: (x[POOP_DF_COLUMN_DATETIME_OF_DAY] <= _start_of_day) | (x[POOP_DF_COLUMN_DATETIME_OF_DAY] >= _end_of_day), axis=1)]\n",
    "df_poop_night_efficiency=df_poop_night.groupby(POOP_DF_COLUMN_DATE).size().to_frame('total').reset_index()\n",
    "# formule compliquée mais qui permet de compter les jours à zero\n",
    "df_poop_night_efficiency[POOP_JSON_FIELD_NIGHT_NB_FAILURE]=df_poop_night.groupby([POOP_DF_COLUMN_DATE, POOP_DF_COLUMN_LOCATION]).size().to_frame(POOP_JSON_FIELD_NIGHT_NB_FAILURE).unstack(fill_value=0).stack()\\\n",
    "    .query(POOP_DF_COLUMN_LOCATION + ' ==  \"' + POOP_DF_VALUE_LOCATION_IN + '\"')\\\n",
    "    .reset_index()[POOP_JSON_FIELD_NIGHT_NB_FAILURE]\n"
   ]
  },
  {
   "cell_type": "code",
   "execution_count": 66,
   "id": "333b5980",
   "metadata": {},
   "outputs": [],
   "source": [
    "# to Json\n",
    "# OUTPUT \n",
    "poop_data_object = {\n",
    "  POOP_JSON_FIELD_DATE: df_poop_day_efficiency[POOP_DF_COLUMN_DATE].to_list(),\n",
    "  POOP_JSON_FIELD_DAY_SUCCESS_RATE: df_poop_day_efficiency[POOP_JSON_FIELD_DAY_SUCCESS_RATE].to_list(),\n",
    "  POOP_JSON_FIELD_DAY_NB_FAILURE: df_poop_day_efficiency[POOP_JSON_FIELD_DAY_NB_FAILURE].to_list(),\n",
    "  POOP_JSON_FIELD_NIGHT_NB_FAILURE: df_poop_night_efficiency[POOP_JSON_FIELD_NIGHT_NB_FAILURE].to_list(),\n",
    "}\n",
    "\n",
    "with open(POOP_JSON_FILE_PATH, 'w', encoding='utf-8') as f:\n",
    "    json.dump(poop_data_object, f, indent=4)\n",
    "\n",
    "# Print\n",
    "#data_json = json.dumps(data_object)\n",
    "#print(data_json)"
   ]
  },
  {
   "cell_type": "markdown",
   "id": "d7f5919d",
   "metadata": {},
   "source": [
    "### Export poop by hour of day"
   ]
  },
  {
   "cell_type": "code",
   "execution_count": 67,
   "id": "53300ef4",
   "metadata": {},
   "outputs": [
    {
     "name": "stdout",
     "output_type": "stream",
     "text": [
      "Avg Nb poop per day: 6.0 (6.118)\n"
     ]
    }
   ],
   "source": [
    "# GRAPH poop by hour of day\n",
    "# filter on poop oly\n",
    "df_poop_only=df_poop[df_poop.apply(lambda x: (x[POOP_DF_COLUMN_NATURE] == POOP_DF_VALUE_NATURE_POOP) & (x[POOP_DF_COLUMN_DATE] >= '2024-04-05'), axis=1)]\n",
    "df_poop_group_by_date=df_poop_only.groupby(POOP_DF_COLUMN_DATE).size().to_frame('total').reset_index()\n",
    "avg_nb_poop_per_day=df_poop_group_by_date['total'].mean()\n",
    "\n",
    "print(f\"Avg Nb poop per day: {round(avg_nb_poop_per_day,0)} ({round(avg_nb_poop_per_day,3)})\")"
   ]
  },
  {
   "cell_type": "code",
   "execution_count": 100,
   "id": "4be76104",
   "metadata": {},
   "outputs": [],
   "source": [
    "#Kmeans on poop\n",
    "kmeans = KMeans(n_clusters=round(avg_nb_poop_per_day), random_state=0)\n",
    "kmeans.fit(df_poop_only[POOP_DF_COLUMN_TIMESTAMP_OF_DAY].array.reshape(-1,1))\n",
    "\n",
    "df_poop_group_kmean=pd.DataFrame({\\\n",
    "    POOPBYHOUR_JSON_FIELD_HOUR:df_poop_only[POOP_DF_COLUMN_DATETIME_OF_DAY],\\\n",
    "    POOPBYHOUR_JSON_FIELD_DAYOFWEEK:df_poop_only[POOP_DF_COLUMN_DAY_OF_WEEK],\\\n",
    "    POOPBYHOUR_JSON_FIELD_GROUP:kmeans.labels_})\n",
    "\n",
    "# Avg value by group\n",
    "df_poop_group_avg=(df_poop_group_kmean.groupby(POOPBYHOUR_JSON_FIELD_GROUP).mean().sort_values(by=POOPBYHOUR_JSON_FIELD_HOUR))\n",
    "\n",
    "# Json nexport\n",
    "poop_by_hour_json=json.loads('{}')\n",
    "poop_by_hour_json['by_hour_of_day']=json.loads(df_poop_group_kmean.to_json(orient='records', date_format='iso'))\n",
    "poop_by_hour_json['avg_by_day']=round(avg_nb_poop_per_day,0)\n",
    "poop_by_hour_json['prefered_hours']=df_poop_group_avg[POOPBYHOUR_JSON_FIELD_HOUR].dt.strftime('%Hh%M').to_list()\n",
    "\n",
    "with open(POOPBYHOUR_JSON_FILE_PATH, 'w', encoding='utf-8') as f:\n",
    "    json.dump(poop_by_hour_json, f, indent=4)"
   ]
  }
 ],
 "metadata": {
  "kernelspec": {
   "display_name": "Python 3 (ipykernel)",
   "language": "python",
   "name": "python3"
  },
  "language_info": {
   "codemirror_mode": {
    "name": "ipython",
    "version": 3
   },
   "file_extension": ".py",
   "mimetype": "text/x-python",
   "name": "python",
   "nbconvert_exporter": "python",
   "pygments_lexer": "ipython3",
   "version": "3.11.3"
  }
 },
 "nbformat": 4,
 "nbformat_minor": 5
}
