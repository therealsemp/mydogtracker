{
 "cells": [
  {
   "cell_type": "markdown",
   "id": "9a19b8c9",
   "metadata": {},
   "source": [
    "### General import"
   ]
  },
  {
   "cell_type": "code",
   "execution_count": 1,
   "id": "acb3f63c-da1c-45c3-a9de-c221132eb871",
   "metadata": {},
   "outputs": [],
   "source": [
    "# IMPORTS\n",
    "\n",
    "import pandas as pd\n",
    "import numpy as np\n",
    "import json\n",
    "from datetime import datetime"
   ]
  },
  {
   "cell_type": "markdown",
   "id": "b53ddddf",
   "metadata": {},
   "source": [
    "### Export poids (weight.json)"
   ]
  },
  {
   "cell_type": "code",
   "execution_count": 2,
   "id": "c0a03c01-9786-4b57-8a80-2b7a1943f4fc",
   "metadata": {},
   "outputs": [],
   "source": [
    "# Define Constants\n",
    "WEIGHT_DF_COLUMN_DATETIME='date'\n",
    "WEIGHT_DF_COLUMN_WEIGHT='poids'\n",
    "WEIGHT_FILE_PATH='../data/poids.csv'\n",
    "\n",
    "JSON_FIELD_DATE='dates'\n",
    "JSON_FIELD_WEIGHT='values'\n",
    "JSON_FILE_PATH='../docs/data/weight.json'"
   ]
  },
  {
   "cell_type": "code",
   "execution_count": 3,
   "id": "7e49f8f7-4aa8-480f-ae43-f3c1960c8e16",
   "metadata": {},
   "outputs": [],
   "source": [
    "# Loading weight data\n",
    "df_weight=pd.read_csv(WEIGHT_FILE_PATH, sep=';', parse_dates=[WEIGHT_DF_COLUMN_DATETIME])"
   ]
  },
  {
   "cell_type": "code",
   "execution_count": 4,
   "id": "5ab55ac7-09c0-4660-a85e-5cdece611d1c",
   "metadata": {},
   "outputs": [],
   "source": [
    "# Conversion Poids\n",
    "df_json=pd.DataFrame()\n",
    "df_json[JSON_FIELD_DATE]=df_weight[[WEIGHT_DF_COLUMN_DATETIME]].apply(lambda x : x.iloc[0].strftime(\"%Y-%m-%d\"), axis=1)\n",
    "df_json[JSON_FIELD_WEIGHT]=df_weight[[WEIGHT_DF_COLUMN_WEIGHT]]\n",
    "# replace Nan with None, so it will be replaced by null in json\n",
    "df_json = df_json.replace(np.nan, None)\n",
    "#df_json"
   ]
  },
  {
   "cell_type": "code",
   "execution_count": 5,
   "id": "eaa06f28-21f4-48ce-b3af-17875659edcd",
   "metadata": {},
   "outputs": [],
   "source": [
    "# OUTPUT \n",
    "data_object = {\n",
    "  JSON_FIELD_DATE: df_json[JSON_FIELD_DATE].to_list(),\n",
    "  JSON_FIELD_WEIGHT: df_json[JSON_FIELD_WEIGHT].to_list(),\n",
    "}\n",
    "\n",
    "with open(JSON_FILE_PATH, 'w', encoding='utf-8') as f:\n",
    "    json.dump(data_object, f, indent=4)\n",
    "\n",
    "# Print\n",
    "# data_json = json.dumps(data_object)\n",
    "# print(data_json)"
   ]
  },
  {
   "cell_type": "markdown",
   "id": "de3568ae",
   "metadata": {},
   "source": [
    "### Export propreté"
   ]
  },
  {
   "cell_type": "code",
   "execution_count": 6,
   "id": "eb7f4153",
   "metadata": {},
   "outputs": [],
   "source": [
    "# Define Constants\n",
    "POOP_DF_COLUMN_DATE='date'\n",
    "POOP_DF_COLUMN_DATETIME='datetime'\n",
    "POOP_DF_COLUMN_HOUR='heure'\n",
    "POOP_DF_COLUMN_DATETIME_OF_DAY='datetime_ofday'\n",
    "POOP_DF_COLUMN_NATURE='nature'\n",
    "POOP_DF_VALUE_NATURE_POOP='caca'\n",
    "POOP_DF_COLUMN_LOCATION='lieu'\n",
    "POOP_DF_VALUE_LOCATION_IN='in'"
   ]
  },
  {
   "cell_type": "code",
   "execution_count": 7,
   "id": "3b1ba81f",
   "metadata": {},
   "outputs": [],
   "source": [
    "# Loading poop data\n",
    "# data consolidation: Computing poop date and hour of day as datetime\n",
    "df_poop=pd.read_csv('../data/poop.csv',sep=';')\n",
    "df_poop[POOP_DF_COLUMN_DATETIME]=df_poop[[POOP_DF_COLUMN_DATE, POOP_DF_COLUMN_HOUR]].apply(lambda x : datetime.strptime('{}T{}'.format(x.iloc[0],x.iloc[1]), \"%Y-%m-%dT%H:%M\"), axis=1)\n",
    "_today=datetime.now().strftime(\"%Y-%m-%d\")\n",
    "df_poop[POOP_DF_COLUMN_DATETIME_OF_DAY]=df_poop[[POOP_DF_COLUMN_HOUR]].apply(lambda x : datetime.strptime('{}T{}'.format(_today,x.iloc[0]), \"%Y-%m-%dT%H:%M\"), axis=1)"
   ]
  },
  {
   "cell_type": "code",
   "execution_count": 8,
   "id": "f276ca13",
   "metadata": {},
   "outputs": [],
   "source": [
    "# filtering during the day data\n",
    "_start_of_day=datetime.now().replace(hour=6, minute=30, second=0)\n",
    "_end_of_day=datetime.now().replace(hour=21, minute=0, second=0)\n",
    "\n",
    "df_poop_day=df_poop[df_poop.apply(lambda x: (x[POOP_DF_COLUMN_DATETIME_OF_DAY] > _start_of_day) & (x[POOP_DF_COLUMN_DATETIME_OF_DAY] < _end_of_day), axis=1)]\n",
    "df_poop_day_efficiency=df_poop_day.groupby(POOP_DF_COLUMN_DATE).size().to_frame('total').reset_index()\n",
    "df_poop_day_efficiency['success']=df_poop_day.loc[df_poop_day[POOP_DF_COLUMN_LOCATION] != POOP_DF_VALUE_LOCATION_IN].groupby(POOP_DF_COLUMN_DATE).size().to_frame('total').reset_index()['total']\n",
    "df_poop_day_efficiency['success_rate']=round(df_poop_day_efficiency['success'] * 100 / df_poop_day_efficiency['total'], 1)"
   ]
  },
  {
   "cell_type": "code",
   "execution_count": 9,
   "id": "333b5980",
   "metadata": {},
   "outputs": [
    {
     "name": "stdout",
     "output_type": "stream",
     "text": [
      "{\"dates\": [\"2024-04-04\", \"2024-04-05\", \"2024-04-06\", \"2024-04-07\", \"2024-04-08\", \"2024-04-09\", \"2024-04-10\", \"2024-04-11\", \"2024-04-12\"], \"values\": [75.0, 88.9, 100.0, 91.7, 76.5, 100.0, 63.6, 76.9, 92.9]}\n"
     ]
    }
   ],
   "source": [
    "# to Json\n",
    "# OUTPUT \n",
    "data_object = {\n",
    "  JSON_FIELD_DATE: df_poop_day_efficiency[POOP_DF_COLUMN_DATE].to_list(),\n",
    "  JSON_FIELD_WEIGHT: df_poop_day_efficiency['success_rate'].to_list(),\n",
    "}\n",
    "\n",
    "\n",
    "# Print\n",
    "data_json = json.dumps(data_object)\n",
    "print(data_json)"
   ]
  }
 ],
 "metadata": {
  "kernelspec": {
   "display_name": "Python 3 (ipykernel)",
   "language": "python",
   "name": "python3"
  },
  "language_info": {
   "codemirror_mode": {
    "name": "ipython",
    "version": 3
   },
   "file_extension": ".py",
   "mimetype": "text/x-python",
   "name": "python",
   "nbconvert_exporter": "python",
   "pygments_lexer": "ipython3",
   "version": "3.11.3"
  }
 },
 "nbformat": 4,
 "nbformat_minor": 5
}
